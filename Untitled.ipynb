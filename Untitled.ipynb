{
  "nbformat": 4,
  "nbformat_minor": 0,
  "metadata": {
    "colab": {
      "name": "Untitled",
      "version": "0.3.2",
      "provenance": [],
      "include_colab_link": true
    },
    "kernelspec": {
      "name": "python3",
      "display_name": "Python 3"
    },
    "accelerator": "GPU"
  },
  "cells": [
    {
      "cell_type": "markdown",
      "metadata": {
        "id": "view-in-github",
        "colab_type": "text"
      },
      "source": [
        "<a href=\"https://colab.research.google.com/github/EfeTascioglu/Basketball-Shoot---out/blob/master/Untitled.ipynb\" target=\"_parent\"><img src=\"https://colab.research.google.com/assets/colab-badge.svg\" alt=\"Open In Colab\"/></a>"
      ]
    },
    {
      "cell_type": "code",
      "metadata": {
        "id": "IBXvjVS7uo9P",
        "colab_type": "code",
        "colab": {}
      },
      "source": [
        "import torch\n",
        "import torchvision\n",
        "import torch.nn as nn\n",
        "import torch.nn.functional as F"
      ],
      "execution_count": 0,
      "outputs": []
    },
    {
      "cell_type": "code",
      "metadata": {
        "id": "m7VM0Uy4uQDL",
        "colab_type": "code",
        "colab": {}
      },
      "source": [
        "from IPython.core.debugger import set_trace\n",
        "\n",
        "def f(x):\n",
        "  res = x * x\n",
        "  set_trace()\n",
        "  return res\n",
        "\n",
        "x = torch.randn(1, requires_grad = True)\n",
        "y = f(x)"
      ],
      "execution_count": 0,
      "outputs": []
    },
    {
      "cell_type": "code",
      "metadata": {
        "id": "0zH6QXeS0Y6l",
        "colab_type": "code",
        "colab": {}
      },
      "source": [
        "\"\"\"\n",
        "from collections import OrderedDict\n",
        "\n",
        "\n",
        "layers = OrderedDict([\n",
        "    ('conv1', nn.Conv2d(in_channels=1, out_channels=20, kernel_size=5))\n",
        "])\n",
        "model = nn.Sequential(layers)\n",
        "\"\"\""
      ],
      "execution_count": 0,
      "outputs": []
    },
    {
      "cell_type": "markdown",
      "metadata": {
        "id": "eBkC7SZ6bk7B",
        "colab_type": "text"
      },
      "source": [
        "_like means takes in another Tensor instead of sizes\n",
        "\n",
        "randn -> mean 0, variance 1\n",
        "\n",
        "randint -> (low, high, sizes)\n",
        "\n",
        "randint_like(x, low, high)"
      ]
    },
    {
      "cell_type": "code",
      "metadata": {
        "id": "OM_U1Q4yXqGn",
        "colab_type": "code",
        "colab": {}
      },
      "source": [
        "x = x.new_ones(5, 3, dtype=torch.double)      # new_* methods take in sizes\n",
        "print(x)\n",
        "\n",
        "x = torch.randn_like(x, dtype=torch.float)    # override dtype!\n",
        "print(x)                                      # result has the same size"
      ],
      "execution_count": 0,
      "outputs": []
    },
    {
      "cell_type": "code",
      "metadata": {
        "id": "-tvmaoWKchh9",
        "colab_type": "code",
        "colab": {}
      },
      "source": [
        "print(x.size())"
      ],
      "execution_count": 0,
      "outputs": []
    },
    {
      "cell_type": "code",
      "metadata": {
        "id": "VZ9kt_H-dy-K",
        "colab_type": "code",
        "colab": {}
      },
      "source": [
        "y = torch.rand(5,3)"
      ],
      "execution_count": 0,
      "outputs": []
    },
    {
      "cell_type": "code",
      "metadata": {
        "id": "ZQdhM31AdeV1",
        "colab_type": "code",
        "colab": {}
      },
      "source": [
        "torch.add(x, y)\n",
        "\n",
        "#OR\n",
        "\n",
        "torch.add(x, y, out=reult)\n",
        "#this keeps tensor3 sizes\n",
        "\n",
        "#OR\n",
        "\n",
        "x + y\n",
        "\n",
        "#OR\n",
        "\n",
        "x.add_(y)\n",
        "#x is already added\n",
        "\n",
        "#All work"
      ],
      "execution_count": 0,
      "outputs": []
    }
  ]
}